{
  "nbformat": 4,
  "nbformat_minor": 0,
  "metadata": {
    "colab": {
      "name": "IntroToNeuralNetwork.ipynb",
      "provenance": [],
      "collapsed_sections": [],
      "authorship_tag": "ABX9TyMg6h4QLApSJRuF3Y0QH3Hw",
      "include_colab_link": true
    },
    "kernelspec": {
      "name": "python3",
      "display_name": "Python 3"
    },
    "language_info": {
      "name": "python"
    }
  },
  "cells": [
    {
      "cell_type": "markdown",
      "metadata": {
        "id": "view-in-github",
        "colab_type": "text"
      },
      "source": [
        "<a href=\"https://colab.research.google.com/github/hemanth2000/deep-learning-practice/blob/main/IntroToNeuralNetwork.ipynb\" target=\"_parent\"><img src=\"https://colab.research.google.com/assets/colab-badge.svg\" alt=\"Open In Colab\"/></a>"
      ]
    },
    {
      "cell_type": "markdown",
      "metadata": {
        "id": "MYWGjUdBWJ7v"
      },
      "source": [
        "Neural Networks have seen most of its application in supervised learning.\n",
        "\n",
        "Examples:\n",
        "\n",
        "1. House price prediction\n",
        "2. Online Advertising\n",
        "3. Computer vision (Photo tagging)\n",
        "4. Speech recognition (Audio to Text)\n",
        "5. Machine translation (English to Chinese)\n",
        "6. Autonomous driving (Based on Image, Radar info)\n",
        "\n",
        "For Typical regression and classification problems, standard NN are sufficient. \n",
        "\n",
        "For Image classification, convolution neural networks are prefered. \n",
        "\n",
        "For Sequentional or time series data, Recurrent Neural Networks are used.\n",
        "\n",
        "Custom/Hybrid Neural Networks are used for complex tasks such as Autonomous driving.\n"
      ]
    },
    {
      "cell_type": "markdown",
      "metadata": {
        "id": "kb5qZ6s0X7o7"
      },
      "source": [
        "Structured Data: Database data, Tables etc.\n",
        "\n",
        "Unstructured Data: Audio, Image, Text\n",
        "\n"
      ]
    },
    {
      "cell_type": "markdown",
      "metadata": {
        "id": "hL8KO-q7Zr6i"
      },
      "source": [
        "# Rise of Deep Learning\n",
        "\n",
        "1. Data\n",
        "1. Computational Power\n",
        "1. Algorithms"
      ]
    },
    {
      "cell_type": "markdown",
      "metadata": {
        "id": "eG28TWDSba1J"
      },
      "source": [
        "# Binary classification problem\n",
        "\n",
        "Identify cat/dog in an image. "
      ]
    },
    {
      "cell_type": "code",
      "metadata": {
        "colab": {
          "base_uri": "https://localhost:8080/"
        },
        "id": "3jq6JiXjbkf1",
        "outputId": "a5737c4a-02db-495a-9cff-2739d63fe312"
      },
      "source": [
        "import numpy as np\n"
      ],
      "execution_count": 11,
      "outputs": [
        {
          "output_type": "execute_result",
          "data": {
            "text/plain": [
              "array([[[-1.23455619, -0.59798322],\n",
              "        [ 1.22770498,  0.37658109]],\n",
              "\n",
              "       [[-0.22209489,  0.01608214],\n",
              "        [-1.21071812, -1.21971734]],\n",
              "\n",
              "       [[ 1.30644909, -1.27277688],\n",
              "        [ 0.7324329 ,  0.41041065]]])"
            ]
          },
          "metadata": {},
          "execution_count": 11
        }
      ]
    },
    {
      "cell_type": "markdown",
      "metadata": {
        "id": "KgAAhpwbWqzx"
      },
      "source": [
        "# Sigmoid Activation Function"
      ]
    },
    {
      "cell_type": "code",
      "metadata": {
        "id": "V77Kc3aYSdwa"
      },
      "source": [
        "def sigmoid(z):\n",
        "\n",
        "  return 1/(1+np.exp(-z))"
      ],
      "execution_count": null,
      "outputs": []
    },
    {
      "cell_type": "code",
      "metadata": {
        "id": "M7zRfmlfWvit"
      },
      "source": [
        "def initialize_with_zeros(dim):\n",
        "\n",
        "  w= np.zeros((dim,1))\n",
        "  b=0\n",
        "\n",
        "  return w,b"
      ],
      "execution_count": 15,
      "outputs": []
    },
    {
      "cell_type": "code",
      "metadata": {
        "colab": {
          "base_uri": "https://localhost:8080/"
        },
        "id": "yjCB1F5UXNP1",
        "outputId": "b958dc7a-78ee-4e18-f29c-d0e5c8ce0ddb"
      },
      "source": [
        "def propagate(w,b,X,y):\n",
        "  \n",
        "  m=w.shape[1]\n",
        "  z=X.T@w+b\n",
        "  a=sigmoid(z)\n",
        "  dw=X@(a-y)*(1/m)\n",
        "  db=np.mean(a-y);\n",
        "  \n",
        "  grads={\"dw\": dw,\n",
        "         \"db\":db}\n",
        "  return grads, cost"
      ],
      "execution_count": 17,
      "outputs": [
        {
          "output_type": "stream",
          "text": [
            "[[0.]\n",
            " [0.]] 0\n"
          ],
          "name": "stdout"
        }
      ]
    },
    {
      "cell_type": "code",
      "metadata": {
        "id": "9tgXhp_9c-Tv"
      },
      "source": [
        "def optimize(w,b,X,y,num_iterations,learning_rate,print_cost=False):\n",
        "\n",
        "  costs=[]\n",
        "\n",
        "  for i in range(num_iterations):\n",
        "\n",
        "    grads,cost=propagate(w,b,X,y)\n",
        "\n",
        "    dw=grads[\"dw\"]\n",
        "    db=grads[\"db\"]\n",
        "\n",
        "    w=w-learning_rate*dw\n",
        "    b=b-learning_rate*db\n",
        "\n",
        "    if i%100==0:\n",
        "      costs.append(cost)\n",
        "\n",
        "    if print_cost and i%100==0:\n",
        "      print(\"Cost after iteration %i: %f:\"%(i,cost))\n",
        "  \n",
        "  params={\n",
        "      \"w\":w,\n",
        "      \"b\":b\n",
        "  }\n",
        "\n",
        "  grads={\n",
        "      \"dw\":dw,\n",
        "      \"db\":db\n",
        "  }\n",
        "\n",
        "  return params, grads, costs\n"
      ],
      "execution_count": null,
      "outputs": []
    },
    {
      "cell_type": "code",
      "metadata": {
        "id": "8bMHYmyY84ba"
      },
      "source": [
        " A = np.random.randn(4,3)\n",
        " B = np.sum(A, axis = 1, keepdims = True)"
      ],
      "execution_count": 18,
      "outputs": []
    },
    {
      "cell_type": "code",
      "metadata": {
        "colab": {
          "base_uri": "https://localhost:8080/"
        },
        "id": "Y0VMNUMP88pq",
        "outputId": "5f2db2cd-886f-4c0e-ef0b-c05b54d27186"
      },
      "source": [
        "for i in range(1,4):\n",
        "  print(i)"
      ],
      "execution_count": 22,
      "outputs": [
        {
          "output_type": "stream",
          "text": [
            "1\n",
            "2\n",
            "3\n"
          ],
          "name": "stdout"
        }
      ]
    }
  ]
}